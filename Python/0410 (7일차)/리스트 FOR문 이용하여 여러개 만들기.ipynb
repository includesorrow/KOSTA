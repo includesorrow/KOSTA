{
 "cells": [
  {
   "cell_type": "code",
   "execution_count": 3,
   "metadata": {},
   "outputs": [
    {
     "name": "stdout",
     "output_type": "stream",
     "text": [
      "[0, 1, 2, 3, 4, 5, 6, 7, 8, 9]\n",
      "[10, 20, 30]\n",
      "[10, 20, 30]\n",
      "<class 'list'>\n"
     ]
    }
   ],
   "source": [
    "a1 = []\n",
    "\n",
    "a2 = []\n",
    "\n",
    "a3 = []\n",
    "\n",
    "# print(a)\n",
    "\n",
    "d = list(range(10))\n",
    "\n",
    "print(d)\n",
    "\n",
    "globals()[ \"a\" ]=10\n",
    "\n",
    "# 요구사항:\n",
    "\n",
    "# 개선 : 모두 카페이 올리도록 !\n",
    "\n",
    "for e in range(10):\n",
    "\n",
    "    globals()[ \"a\",e ] = [10,20,30]\n",
    "\n",
    "print(globals()[ \"a\",0 ])   \n",
    "\n",
    "print(globals()[ \"a\",1 ])  \n",
    "\n",
    "print(type(globals()[\"a\",1]))\n"
   ]
  }
 ],
 "metadata": {
  "kernelspec": {
   "display_name": "Python 3",
   "language": "python",
   "name": "python3"
  },
  "language_info": {
   "codemirror_mode": {
    "name": "ipython",
    "version": 3
   },
   "file_extension": ".py",
   "mimetype": "text/x-python",
   "name": "python",
   "nbconvert_exporter": "python",
   "pygments_lexer": "ipython3",
   "version": "3.7.1"
  }
 },
 "nbformat": 4,
 "nbformat_minor": 2
}
