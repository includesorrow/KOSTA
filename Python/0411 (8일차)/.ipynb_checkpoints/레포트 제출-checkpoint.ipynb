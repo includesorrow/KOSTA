{
 "cells": [
  {
   "cell_type": "code",
   "execution_count": 22,
   "metadata": {},
   "outputs": [
    {
     "name": "stdout",
     "output_type": "stream",
     "text": [
      " * Serving Flask app \"__main__\" (lazy loading)\n",
      " * Environment: production\n",
      "   WARNING: Do not use the development server in a production environment.\n",
      "   Use a production WSGI server instead.\n",
      " * Debug mode: off\n"
     ]
    },
    {
     "name": "stderr",
     "output_type": "stream",
     "text": [
      " * Running on http://127.0.0.1:5000/ (Press CTRL+C to quit)\n",
      "127.0.0.1 - - [11/Apr/2019 21:07:08] \"GET / HTTP/1.1\" 200 -\n"
     ]
    },
    {
     "name": "stdout",
     "output_type": "stream",
     "text": [
      "<cx_Oracle.Cursor on <cx_Oracle.Connection to python3@192.168.0.16:1521/xe>>\n",
      "<class 'str'>\n",
      "[('admin', 'admin')]\n",
      "\n",
      "<class 'list'>\n",
      "admin 0번째 리스트는 admin\n",
      "<cx_Oracle.Cursor on <cx_Oracle.Connection to python3@192.168.0.16:1521/xe>>\n",
      "<class 'str'>\n",
      "[('admin', 'admin')]\n",
      "\n",
      "<class 'list'>\n",
      "admin 1번째 리스트는 admin\n",
      "session None\n"
     ]
    },
    {
     "name": "stderr",
     "output_type": "stream",
     "text": [
      "127.0.0.1 - - [11/Apr/2019 21:07:13] \"POST /login HTTP/1.1\" 200 -\n"
     ]
    },
    {
     "name": "stdout",
     "output_type": "stream",
     "text": [
      "<cx_Oracle.Cursor on <cx_Oracle.Connection to python3@192.168.0.16:1521/xe>>\n",
      "<class 'str'>\n",
      "[('admin', 'admin')]\n",
      "\n",
      "<class 'list'>\n",
      "<cx_Oracle.Cursor on <cx_Oracle.Connection to python3@192.168.0.16:1521/xe>>\n",
      "<class 'str'>\n",
      "[('admin', 'admin')]\n",
      "\n",
      "<class 'list'>\n",
      "<cx_Oracle.Cursor on <cx_Oracle.Connection to python3@192.168.0.16:1521/xe>>\n",
      "<class 'str'>\n",
      "[('admin', 'admin')]\n",
      "\n",
      "<class 'list'>\n",
      "admin 0번째 리스트는 admin\n",
      "<cx_Oracle.Cursor on <cx_Oracle.Connection to python3@192.168.0.16:1521/xe>>\n",
      "<class 'str'>\n",
      "[('admin', 'admin')]\n",
      "\n",
      "<class 'list'>\n",
      "admin 1번째 리스트는 admin\n",
      "session admin\n"
     ]
    },
    {
     "name": "stderr",
     "output_type": "stream",
     "text": [
      "127.0.0.1 - - [11/Apr/2019 21:23:00] \"GET / HTTP/1.1\" 200 -\n"
     ]
    },
    {
     "name": "stdout",
     "output_type": "stream",
     "text": [
      "<cx_Oracle.Cursor on <cx_Oracle.Connection to python3@192.168.0.16:1521/xe>>\n",
      "<class 'str'>\n",
      "[('admin', 'admin')]\n",
      "\n",
      "<class 'list'>\n",
      "admin 0번째 리스트는 admin\n",
      "<cx_Oracle.Cursor on <cx_Oracle.Connection to python3@192.168.0.16:1521/xe>>\n",
      "<class 'str'>\n",
      "[('admin', 'admin')]\n",
      "\n",
      "<class 'list'>\n",
      "admin 1번째 리스트는 admin\n",
      "session admin\n"
     ]
    },
    {
     "name": "stderr",
     "output_type": "stream",
     "text": [
      "127.0.0.1 - - [11/Apr/2019 21:23:01] \"GET /logout HTTP/1.1\" 200 -\n"
     ]
    },
    {
     "name": "stdout",
     "output_type": "stream",
     "text": [
      "<cx_Oracle.Cursor on <cx_Oracle.Connection to python3@192.168.0.16:1521/xe>>\n",
      "<class 'str'>\n",
      "[('admin', 'admin')]\n",
      "\n",
      "<class 'list'>\n",
      "admin 0번째 리스트는 admin\n",
      "<cx_Oracle.Cursor on <cx_Oracle.Connection to python3@192.168.0.16:1521/xe>>\n",
      "<class 'str'>\n",
      "[('admin', 'admin')]\n",
      "\n",
      "<class 'list'>\n",
      "admin 1번째 리스트는 admin\n",
      "session None\n"
     ]
    }
   ],
   "source": [
    "import cx_Oracle as ora\n",
    "from flask import Flask, json, Response\n",
    "\n",
    "from flask import redirect, render_template, request, session, url_for,flash\n",
    "app=Flask(__name__)\n",
    "\n",
    "\n",
    "@app.route(\"/\")\n",
    "@app.route('/index')\n",
    "def index():\n",
    "    print(\"admin 0번째 리스트는\", admin()[0])\n",
    "    print(\"admin 1번째 리스트는\", admin()[1])\n",
    "    \n",
    "    print(\"session\", session.get(\"logged_in\"))\n",
    "    if not session.get('logged_in'):\n",
    "    #이게뭐하는거냐면 세선의 값을 읽어오는 함수\n",
    "        #로그인 전 상태 : 로그인 폼을 보여줌\n",
    "        return render_template('login.html')\n",
    "    else : \n",
    "        return render_template('logout.html')\n",
    "        #로그아웃\n",
    "\n",
    "\n",
    "@app.route(\"/boardList\")\n",
    "def formView():\n",
    "    board_list = myFetchmany()\n",
    "    return render_template('boardlist.html', board_list = board_list)\n",
    "\n",
    "\n",
    "@app.route('/login', methods=['POST'])\n",
    "def login_process():\n",
    "    if request.form['username'] == admin()[0] and request.form['password']== admin()[1]:\n",
    "        session['logged_in'] = request.form['username']\n",
    "    else:\n",
    "        flash('로그인에 실패')\n",
    "    return index()\n",
    "\n",
    "\n",
    "\n",
    "@app.route(\"/daepyomenu\")\n",
    "def daepyomenu():\n",
    "    try:\n",
    "        jsonLists = []\n",
    "        for i in range(0,1):\n",
    "            myDict = {'한식대표메뉴':'삼겹살','중식대표메뉴':'짜장면', '일식대표메뉴':'초밥'}\n",
    "            jsonLists.append(myDict)\n",
    "            # json을 출력할 때 기본 설정이 아스키코드인데 이걸 해제하고 밑에 UTF-8로 설정하면도됨\n",
    "            # ensure_ascii = False\n",
    "        jsonStr = json.dumps(jsonLists)\n",
    "        \n",
    "    except Exception as e:\n",
    "        print(\"Error\",e)\n",
    "    return Response(jsonStr, content_type = \"application/json; charset='UTF-8'\")\n",
    "\n",
    "def admin():\n",
    "    conn = ora.connect(\"python3/test00@192.168.0.16:1521/xe\")\n",
    "    cursor = conn.cursor( )\n",
    "    print(cursor)\n",
    "    sql_select = \"select id, password from member where id='admin'\"\n",
    "    print(type(sql_select))\n",
    "    cursor.execute(sql_select)\n",
    "    \n",
    "    adminlist = cursor.fetchall()\n",
    "    print(adminlist)\n",
    "    print()\n",
    "    print(type(adminlist))\n",
    "    \n",
    "    cursor.close()\n",
    "    conn.close()\n",
    "    test1 = \",\".join(adminlist[0])\n",
    "    adminlist = test1.split(',')\n",
    "    \n",
    "    return adminlist\n",
    "\n",
    "\n",
    "def connections():\n",
    "    try:\n",
    "        conn = ora.connect(\"python3/test00@localhost:1521/xe\")\n",
    "        print(\"성공\")\n",
    "    except Exception as e:\n",
    "        conn = \"예외발생\"\n",
    "        print(e)\n",
    "        return\n",
    "    return conn\n",
    "\n",
    "\n",
    "@app.route('/logout')\n",
    "def logout():\n",
    "    session.clear()\n",
    "    return index()\n",
    "\n",
    "if __name__ == \"__main__\":\n",
    "    app.secret_key = 'super secret key'\n",
    "    app.config['SESSION_TYPE'] = 'filesystem'\n",
    "\n",
    "    app.run()\n",
    "    \n",
    "    "
   ]
  },
  {
   "cell_type": "code",
   "execution_count": null,
   "metadata": {},
   "outputs": [],
   "source": []
  },
  {
   "cell_type": "code",
   "execution_count": null,
   "metadata": {},
   "outputs": [],
   "source": []
  }
 ],
 "metadata": {
  "kernelspec": {
   "display_name": "Python 3",
   "language": "python",
   "name": "python3"
  },
  "language_info": {
   "codemirror_mode": {
    "name": "ipython",
    "version": 3
   },
   "file_extension": ".py",
   "mimetype": "text/x-python",
   "name": "python",
   "nbconvert_exporter": "python",
   "pygments_lexer": "ipython3",
   "version": "3.7.1"
  }
 },
 "nbformat": 4,
 "nbformat_minor": 2
}
