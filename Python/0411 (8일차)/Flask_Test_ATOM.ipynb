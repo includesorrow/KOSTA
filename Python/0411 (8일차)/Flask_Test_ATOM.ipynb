# % %

# % %

# % % #리스트의 데이터를 view로 전달하는 방법
from flask
import Flask, render_template, request
app = Flask(__name__)
@app.route("/")
def hello():
  return render_template('Hello.html')

@app.route("/run")
def listdemo():
  my_string = "나는 스파이더맨이다."
my_list = [x
  for x in range(20) if x % 2 == 0
]
return render_template('templateDemo.html'\, myname = my_string, my_list = my_list)

if __name__ == "__main__":
  app.run()# % % #연습문제# ex1###
about.html {
  % extends "layout2.html" %
} {
  % block content %
}
이런식으로 하자.

layout2.html
a href = "{{url_for('home')}}" > home < a > < /li> -
  링크처리# % % #딕셔너리로 값 넘기기
from flask
import Flask, render_template

app = Flask(__name__)

@app.route('/ex2_dict')
def use_dict():
  my_dict = {
    'CPU 온도 ': 35,
    'CPU 사용률': 90,
    'CPU 코어 갯수': 2,
    \
    '전체 메모리': 80.5 '메모리 사용율': 50,
    '디스크 사용율': 50
  }
return render_template('ex2_dict.html', my_dict = my_dict)

if __name__ = '__main__':
  app.run(port = 80)
