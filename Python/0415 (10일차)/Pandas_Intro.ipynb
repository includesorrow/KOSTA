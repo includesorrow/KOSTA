{
 "cells": [
  {
   "cell_type": "code",
   "execution_count": null,
   "metadata": {},
   "outputs": [],
   "source": [
    "\n",
    "\n",
    "판다스 : Series, DataFrame 등의 자료 구조를 활용해서 데이터 분석용 빅데이터를 더욱 빠른 속도로 처리함.\n",
    "        (CSV 파일 읽기, 엑셀파일보다 빠른 처리)\n"
   ]
  },
  {
   "cell_type": "code",
   "execution_count": 30,
   "metadata": {},
   "outputs": [
    {
     "name": "stdout",
     "output_type": "stream",
     "text": [
      "[10, 20, 30, 40, 50]\n",
      "0    11\n",
      "1    21\n",
      "2    31\n",
      "3    41\n",
      "4    51\n",
      "dtype: int64\n",
      "10\n",
      "31\n",
      "첫     11\n",
      "두     21\n",
      "셋     31\n",
      "넷     41\n",
      "다섯    51\n",
      "여섯    61\n",
      "dtype: int64\n",
      "\n",
      "========================================================================================================================\n",
      "인덱스 / value 값들\n",
      "Index(['첫', '두', '셋', '넷', '다섯', '여섯'], dtype='object')\n",
      "[11 21 31 41 51 61]\n",
      "============================================================\n",
      "index 첫 / value 11\n",
      "index 두 / value 21\n",
      "index 셋 / value 31\n",
      "index 넷 / value 41\n",
      "index 다섯 / value 51\n",
      "index 여섯 / value 61\n"
     ]
    }
   ],
   "source": [
    "import pandas as pd\n",
    "\n",
    "listv  = [10,20,30,40,50]\n",
    "print(listv)\n",
    "\n",
    "#index가 자동으로 구성이 된다.\n",
    "#인덱스를 지정하지 않으면 0부터 인덱스가 만들어진다.\n",
    "list_series = pd.Series([11,21,31,41,51])\n",
    "print(list_series)\n",
    "\n",
    "\n",
    "# 인덱스 접근 방법\n",
    "\n",
    "print(listv[0])\n",
    "print(list_series[2])\n",
    "\n",
    "\n",
    "# 시리즈에 인덱스를 설정 해봅시다.\n",
    "list_series = pd.Series([11,21,31,41,51,61],index=[\"첫\",\"두\",\"셋\",\"넷\",\"다섯\",\"여섯\"])\n",
    "print(list_series)\n",
    "\n",
    "print()\n",
    "print(\"====\"*30)\n",
    "print(\"인덱스 / value 값들\")\n",
    "# idex / value 속성으로 조회\n",
    "print(list_series.index)\n",
    "print(list_series.values)\n",
    "\n",
    "\n",
    "print(\"==\"*30)\n",
    "# for in 문으로 반복하기\n",
    "# index / value 속성으로 조회\n",
    "\n",
    "\n",
    "for e in list_series.index:\n",
    "    print(\"index {0} / value {1}\".format(e,list_series[e]))\n",
    "    \n",
    "    \n",
    "#####\n",
    "## int64 = 64bit까지 표현 가능하다."
   ]
  },
  {
   "cell_type": "code",
   "execution_count": 32,
   "metadata": {},
   "outputs": [
    {
     "name": "stdout",
     "output_type": "stream",
     "text": [
      "{'a': [5, 6, 7], 'b': [8, 9, 10], 'c': [11, 12, 13]}\n"
     ]
    }
   ],
   "source": [
    "import pandas as pd\n",
    "\n",
    "\"\"\"\n",
    "엑셀 처럼 만들어진다.\n",
    "DataFrame은 이렇게 행과 열로 되어 있는 표 형태이며,\n",
    "각 열은 Series 형태로 되어 있다.\n",
    "이때 Series는 [5,6,7] 은 1차원 형태의 배열이다\n",
    "\"\"\"\n",
    "\n",
    "\n",
    "dicts = {\n",
    "    \"a\" : [5,6,7],\n",
    "    \"b\" : [8,9,10],\n",
    "    \"c\" : [11,12,13],\n",
    "    \n",
    "}\n",
    "\n",
    "print(dicts)"
   ]
  },
  {
   "cell_type": "code",
   "execution_count": null,
   "metadata": {},
   "outputs": [],
   "source": []
  },
  {
   "cell_type": "code",
   "execution_count": null,
   "metadata": {},
   "outputs": [],
   "source": []
  },
  {
   "cell_type": "code",
   "execution_count": null,
   "metadata": {},
   "outputs": [],
   "source": []
  }
 ],
 "metadata": {
  "kernelspec": {
   "display_name": "Python 3",
   "language": "python",
   "name": "python3"
  },
  "language_info": {
   "codemirror_mode": {
    "name": "ipython",
    "version": 3
   },
   "file_extension": ".py",
   "mimetype": "text/x-python",
   "name": "python",
   "nbconvert_exporter": "python",
   "pygments_lexer": "ipython3",
   "version": "3.7.1"
  }
 },
 "nbformat": 4,
 "nbformat_minor": 2
}
