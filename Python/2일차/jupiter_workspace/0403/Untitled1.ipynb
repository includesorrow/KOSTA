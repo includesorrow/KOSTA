{
 "cells": [
  {
   "cell_type": "code",
   "execution_count": 16,
   "metadata": {},
   "outputs": [
    {
     "name": "stdout",
     "output_type": "stream",
     "text": [
      "weight :  0.3333333333333333 kg 0.14285714285714285 kg 0.25 kg\n",
      "weight: 0.333 kg\n",
      "weight: 0.333kg, y=0.14kg, z=0.25kg\n"
     ]
    }
   ],
   "source": [
    "#연습문제 2)\n",
    "x = 1 / 3\n",
    "y = 1 / 7\n",
    "z = 1 / 4\n",
    "\n",
    "# \"\"\"\n",
    "# 값을 다음과 같이 출력하시오\n",
    "# 출력1) weight : 0.3333333333333 kg 0.14281714285714285 kg 0.25 kg\n",
    "# 출력2) weight: 0.33 kg, y=0.14 kg, z=0.25 kg\n",
    "\n",
    "print(\"weight : \",x,\"kg\",y,\"kg\",z,\"kg\")\n",
    "print(\"weight: {0:.3f} kg\".format(x))\n",
    "\n",
    "print(\"weight: {0:.3f}kg, y={1:.2f}kg, z={2:.2f}kg\".format(x,y,z))\n",
    "\n",
    "\n",
    "\n",
    "# \"I ate {0} apples. so I was sick for {1} days.\".format(number, day)\n",
    "# 'I ate 10 apples. so I was sick for three days.'"
   ]
  },
  {
   "cell_type": "code",
   "execution_count": 20,
   "metadata": {},
   "outputs": [
    {
     "name": "stdout",
     "output_type": "stream",
     "text": [
      "2\n"
     ]
    },
    {
     "ename": "NameError",
     "evalue": "name 'tel' is not defined",
     "output_type": "error",
     "traceback": [
      "\u001b[1;31m---------------------------------------------------------------------------\u001b[0m",
      "\u001b[1;31mNameError\u001b[0m                                 Traceback (most recent call last)",
      "\u001b[1;32m<ipython-input-20-cd9eea15c72a>\u001b[0m in \u001b[0;36m<module>\u001b[1;34m\u001b[0m\n\u001b[0;32m     12\u001b[0m \u001b[1;31m# '''\u001b[0m\u001b[1;33m\u001b[0m\u001b[1;33m\u001b[0m\u001b[1;33m\u001b[0m\u001b[0m\n\u001b[0;32m     13\u001b[0m \u001b[0mprint\u001b[0m\u001b[1;33m(\u001b[0m\u001b[0mtel1\u001b[0m\u001b[1;33m.\u001b[0m\u001b[0mfind\u001b[0m\u001b[1;33m(\u001b[0m\u001b[1;34m\")\"\u001b[0m\u001b[1;33m)\u001b[0m\u001b[1;33m)\u001b[0m\u001b[1;33m\u001b[0m\u001b[1;33m\u001b[0m\u001b[0m\n\u001b[1;32m---> 14\u001b[1;33m \u001b[0mprint\u001b[0m\u001b[1;33m(\u001b[0m\u001b[1;34m\"서울 : \"\u001b[0m\u001b[1;33m+\u001b[0m\u001b[0mtel1\u001b[0m\u001b[1;33m[\u001b[0m\u001b[0mtel\u001b[0m\u001b[1;33m.\u001b[0m\u001b[0mfind\u001b[0m\u001b[1;33m(\u001b[0m\u001b[1;34m\")\"\u001b[0m\u001b[1;33m)\u001b[0m\u001b[1;33m]\u001b[0m\u001b[1;33m)\u001b[0m\u001b[1;33m\u001b[0m\u001b[1;33m\u001b[0m\u001b[0m\n\u001b[0m\u001b[0;32m     15\u001b[0m \u001b[1;33m\u001b[0m\u001b[0m\n",
      "\u001b[1;31mNameError\u001b[0m: name 'tel' is not defined"
     ]
    }
   ],
   "source": [
    "# 연습문제 2 )\n",
    "\n",
    "# '''\n",
    "tel1 = \"02)356-1212\"\n",
    "tel2 = \"032)675-1211\"\n",
    "\n",
    "# 두 전화번호의 국번 구해서 출력하시오.\n",
    "# 출력\n",
    "# 서울 02\n",
    "# 인천 032\n",
    "\n",
    "# '''\n",
    "print(tel1.find(\")\"))\n",
    "print(\"서울 : \"+tel1[tel.find(\")\"),])\n",
    "\n"
   ]
  },
  {
   "cell_type": "code",
   "execution_count": null,
   "metadata": {},
   "outputs": [],
   "source": []
  }
 ],
 "metadata": {
  "kernelspec": {
   "display_name": "Python 3",
   "language": "python",
   "name": "python3"
  },
  "language_info": {
   "codemirror_mode": {
    "name": "ipython",
    "version": 3
   },
   "file_extension": ".py",
   "mimetype": "text/x-python",
   "name": "python",
   "nbconvert_exporter": "python",
   "pygments_lexer": "ipython3",
   "version": "3.7.1"
  }
 },
 "nbformat": 4,
 "nbformat_minor": 2
}
