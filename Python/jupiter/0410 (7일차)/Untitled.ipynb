{
 "cells": [
  {
   "cell_type": "code",
   "execution_count": null,
   "metadata": {},
   "outputs": [],
   "source": [
    "number = 10\n",
    "day = \"three\"\n",
    "day2 = \"five DAYS\"\n",
    "\"I ate %d apples. so I was sick for %s days. oh, sorry. I was sick for %s days.\" %(number,day,day2)"
   ]
  },
  {
   "cell_type": "code",
   "execution_count": null,
   "metadata": {},
   "outputs": [],
   "source": [
    "\"I ate {0} apples. so I was sick for {1} days. oh, sorry. I was sick for {1}{2} days.\".format(number,day,day2)"
   ]
  },
  {
   "cell_type": "code",
   "execution_count": null,
   "metadata": {
    "scrolled": false
   },
   "outputs": [],
   "source": [
    "#\"I ate {number} apples. so I was sick for {day} days. oh, sorry. I was sick for {day2}{day} days.\".format(number,day,day2)\n",
    "#이런식으로 하면 안된다.\n",
    "#{ number } 를 만들면 여기 내에 지역변수?를 써야하므로 number = 10 이런식으로 입력해 줘야 한다.\n",
    "\"I ate {number} apples. so I was sick for {day} days. oh, sorry. I was sick for {day2}{day} days.\".format(number=10,day=\"five\",day2=\"three\")"
   ]
  },
  {
   "cell_type": "code",
   "execution_count": null,
   "metadata": {},
   "outputs": [],
   "source": [
    "\"I eat %ddays\" %3"
   ]
  },
  {
   "cell_type": "code",
   "execution_count": null,
   "metadata": {},
   "outputs": [],
   "source": [
    "a = \"Pithon\"\n",
    "\n"
   ]
  },
  {
   "cell_type": "code",
   "execution_count": null,
   "metadata": {},
   "outputs": [],
   "source": [
    "## APPEND ##\n",
    "x = [1, 2, 3]\n",
    "x.append([4, 5])\n",
    "print (x)"
   ]
  },
  {
   "cell_type": "code",
   "execution_count": null,
   "metadata": {},
   "outputs": [],
   "source": [
    "score=[70,20,50]\n",
    "print(type(score))\n",
    "\n",
    "\n",
    "for i in score:\n",
    "    score.remove(i)\n",
    "    print(\"스코어는\",score)\n",
    "    print(len(score))\n",
    "    print(\"첫번째 스코어\", score)\n",
    "    score.append(i*3)\n",
    "    print(\"두번째 스코어\", score)"
   ]
  },
  {
   "cell_type": "code",
   "execution_count": null,
   "metadata": {},
   "outputs": [],
   "source": [
    "\n",
    "score2=[30,20,10]\n",
    "score2\n",
    "score3=[20]\n",
    "score3\n",
    "print(score2)"
   ]
  },
  {
   "cell_type": "code",
   "execution_count": 1,
   "metadata": {},
   "outputs": [
    {
     "name": "stdout",
     "output_type": "stream",
     "text": [
      "[1, 2, 3]\n"
     ]
    }
   ],
   "source": [
    "ssss = 3\n",
    "\n",
    "testlist = list()\n",
    "for i in range(1,ssss+1):\n",
    "    testlist.append(i)\n",
    "print(testlist)"
   ]
  },
  {
   "cell_type": "code",
   "execution_count": null,
   "metadata": {},
   "outputs": [],
   "source": []
  },
  {
   "cell_type": "code",
   "execution_count": 3,
   "metadata": {},
   "outputs": [
    {
     "ename": "SyntaxError",
     "evalue": "invalid syntax (<ipython-input-3-216c0128c830>, line 2)",
     "output_type": "error",
     "traceback": [
      "\u001b[1;36m  File \u001b[1;32m\"<ipython-input-3-216c0128c830>\"\u001b[1;36m, line \u001b[1;32m2\u001b[0m\n\u001b[1;33m    list{%d}%i = list()\u001b[0m\n\u001b[1;37m        ^\u001b[0m\n\u001b[1;31mSyntaxError\u001b[0m\u001b[1;31m:\u001b[0m invalid syntax\n"
     ]
    }
   ],
   "source": [
    "for i in range(1,5):\n",
    "    list{%d}%i = list()\n",
    "\n",
    "    "
   ]
  },
  {
   "cell_type": "code",
   "execution_count": 4,
   "metadata": {
    "scrolled": true
   },
   "outputs": [
    {
     "name": "stdout",
     "output_type": "stream",
     "text": [
      "[0, 1, 2, 3, 4, 5, 6, 7, 8, 9]\n",
      "[10, 20, 30]\n",
      "[10, 20, 30]\n"
     ]
    }
   ],
   "source": [
    "a1 = []\n",
    "\n",
    "a2 = []\n",
    "\n",
    "a3 = []\n",
    "\n",
    "\n",
    "d = list(range(10))\n",
    "\n",
    "print(d)\n",
    "\n",
    "\n",
    "\n",
    "for e in range(3):\n",
    "\n",
    "    a1 = [10,20,30]\n",
    "\n",
    "#Class.forName(\"strObject\")\n",
    "\n",
    "globals()[ \"a\" ]=10\n",
    "\n",
    "for e in range(10):\n",
    "\n",
    "    globals()[ \"a\",e ] = [10,20,30]\n",
    "    \n",
    "print(globals()[ \"a\",0 ])   \n",
    "\n",
    "print(globals()[ \"a\",1 ])  \n"
   ]
  },
  {
   "cell_type": "code",
   "execution_count": null,
   "metadata": {},
   "outputs": [],
   "source": []
  },
  {
   "cell_type": "code",
   "execution_count": null,
   "metadata": {},
   "outputs": [],
   "source": []
  }
 ],
 "metadata": {
  "kernelspec": {
   "display_name": "Python 3",
   "language": "python",
   "name": "python3"
  },
  "language_info": {
   "codemirror_mode": {
    "name": "ipython",
    "version": 3
   },
   "file_extension": ".py",
   "mimetype": "text/x-python",
   "name": "python",
   "nbconvert_exporter": "python",
   "pygments_lexer": "ipython3",
   "version": "3.7.1"
  }
 },
 "nbformat": 4,
 "nbformat_minor": 2
}
