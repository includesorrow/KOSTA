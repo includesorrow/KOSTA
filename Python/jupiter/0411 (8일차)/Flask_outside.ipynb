{
 "cells": [
  {
   "cell_type": "code",
   "execution_count": null,
   "metadata": {},
   "outputs": [],
   "source": [
    "#flask 설치\n",
    "from flask import Flask"
   ]
  },
  {
   "cell_type": "code",
   "execution_count": null,
   "metadata": {},
   "outputs": [],
   "source": [
    "app = Flask(__name__)\n",
    "\n",
    "#print(type(app))\n",
    "#print(dir(app))\n",
    "#최초의 flask 서버를 시작\n",
    "@app.route(\"/\")\n",
    "def hell():\n",
    "    return \"<h1> Hello World~!</h1>\"\n",
    "\n",
    "if __name__ == \"__main__\":\n",
    "    app.run()"
   ]
  },
  {
   "cell_type": "code",
   "execution_count": null,
   "metadata": {},
   "outputs": [],
   "source": [
    "v = [\"hello\",\"world\",\"신기한\",\"flask!\"]\n",
    "app = Flask(__name__)\n",
    "@app.route(\"/\")\n",
    "def hell():\n",
    "    str = '<h1 style=\"color:red\">'\n",
    "    for i in v:\n",
    "        str += i+\" \"\n",
    "    str += \"</h1>\"\n",
    "    return str\n",
    "\n",
    "if __name__ == \"__main__\":\n",
    "    app.run()"
   ]
  },
  {
   "cell_type": "code",
   "execution_count": null,
   "metadata": {},
   "outputs": [],
   "source": [
    "# render_template : templates안에 html을 랜더링 역할\n",
    "from flask import Flask,render_template\n",
    "app = Flask(__name__)\n",
    "@app.route(\"/\")\n",
    "def index():\n",
    "    return '<a href=\"hello\">hello</a>'\n",
    "@app.route(\"/hello\")\n",
    "def hello():\n",
    "    return render_template('Hello.html')\n",
    "@app.route(\"/main\")\n",
    "def main(name,msg):\n",
    "    # Get, Post와같은 방식으로 파라미터를처리하기 위해서\n",
    "    #request.args.get(\"파라미터값\")\n",
    "    name = request.args.get(\"name\")\n",
    "    msg = request.args.get(\"msg\")\n",
    "    return render_template('main.html',name=name,msg=msg)\n",
    "\n",
    "if __name__ == '__main__':\n",
    "    app.run()"
   ]
  },
  {
   "cell_type": "code",
   "execution_count": null,
   "metadata": {},
   "outputs": [],
   "source": [
    "a1=[]\n",
    "a2=[]\n",
    "a3=[]\n",
    "\n",
    "d = list(range(10))\n",
    "print(d)\n",
    "#Class.forName(\"strObject\")\n",
    "globals()[\"a\"]=10\n",
    "#요구사항\n",
    "for e in range(10):\n",
    "    globals()[\"a\",e] = [10,20,30]\n",
    "print(globals()[\"a\",0])\n",
    "print(globals()[\"a\",1])"
   ]
  },
  {
   "cell_type": "code",
   "execution_count": null,
   "metadata": {},
   "outputs": [],
   "source": [
    "from flask import Flask,render_template, request\n",
    "\n",
    "app = Flask(__name__)\n",
    "\n",
    "@app.route(\"/\")\n",
    "def hello():\n",
    "    return render_template('Hello.html')\n",
    "@app.route(\"/main\")\n",
    "def main():\n",
    "    # Get, Post와같은 방식으로 파라미터를처리하기 위해서\n",
    "    #request.args.get(\"파라미터값\")\n",
    "    name = request.args.get(\"name\")\n",
    "    msg = request.args.get(\"msg\")\n",
    "    return render_template('main.html',name=name,msg=msg)\n",
    "\n",
    "# 메인에서 링크로 값을 전달하도록...\n",
    "@app.route(\"/pathval/<string:msg>/\")\n",
    "def pathv(msg):\n",
    "    return render_template('pathView.html',msg=msg)\n",
    "\n",
    "if __name__ == \"__main__\":\n",
    "    app.run()"
   ]
  },
  {
   "cell_type": "code",
   "execution_count": null,
   "metadata": {},
   "outputs": [],
   "source": [
    "#리스트의 데이터를 view로 전달하는 방법\n",
    "from flask import Flask, render_template, request\n",
    "app=Flask(__name__)\n",
    "@app.route(\"/\")\n",
    "def hello():\n",
    "    return render_template('Hello.html')\n",
    "\n",
    "@app.route(\"/listdemo\")\n",
    "def listdemo():\n",
    "    my_string = \"나는 스파이더맨이다.\"\n",
    "    my_list = [x for x in range(20) if x%2 == 0]\n",
    "    return render_template('listdemo.html',my_string=my_string,my_list=my_list)\n",
    "\n",
    "if __name__ == \"__main__\":\n",
    "    app.run()\n",
    "    "
   ]
  },
  {
   "cell_type": "code",
   "execution_count": null,
   "metadata": {},
   "outputs": [],
   "source": []
  }
 ],
 "metadata": {
  "kernelspec": {
   "display_name": "Python 3",
   "language": "python",
   "name": "python3"
  },
  "language_info": {
   "codemirror_mode": {
    "name": "ipython",
    "version": 3
   },
   "file_extension": ".py",
   "mimetype": "text/x-python",
   "name": "python",
   "nbconvert_exporter": "python",
   "pygments_lexer": "ipython3",
   "version": "3.7.1"
  }
 },
 "nbformat": 4,
 "nbformat_minor": 2
}
